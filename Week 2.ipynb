{
 "cells": [
  {
   "cell_type": "markdown",
   "metadata": {},
   "source": [
    "# Week 2"
   ]
  },
  {
   "cell_type": "code",
   "execution_count": null,
   "metadata": {},
   "outputs": [],
   "source": [
    "import seaborn as sns\n",
    "import pandas as pd\n",
    "import matplotlib.pyplot as plt\n",
    "from scipy.stats.stats import pearsonr "
   ]
  },
  {
   "cell_type": "code",
   "execution_count": null,
   "metadata": {},
   "outputs": [],
   "source": [
    "df_steps = pd.read_csv(\"steps.csv\", sep = \";\")\n",
    "df_survey = pd.read_csv(\"survey.csv\")\n",
    "df_steps = df_steps.fillna(0)\n",
    "df_survey = df_survey.fillna(0)\n",
    "df = pd.merge(df_steps, df_survey, on = \"id\")\n",
    "df.head()"
   ]
  },
  {
   "cell_type": "code",
   "execution_count": null,
   "metadata": {},
   "outputs": [],
   "source": [
    "# Calc mean\n",
    "mean_steps = df.loc[:,\"20-6-2013\":\"13-5-2014\"].mean(axis = 1)\n",
    "mean_steps"
   ]
  },
  {
   "cell_type": "code",
   "execution_count": null,
   "metadata": {},
   "outputs": [],
   "source": [
    "# Making new df\n",
    "df_set = pd.DataFrame(mean_steps)\n",
    "df_set = df_set.rename(columns = {0 : \"mean\"})\n",
    "df_set[\"id\"] = df_set.index +1\n",
    "cols = df_set.columns.tolist()\n",
    "cols = cols[-1:] + cols[:-1]\n",
    "df_set = df_set[cols]\n",
    "df_set = df_set.reset_index(drop = True)\n",
    "df_set.head()"
   ]
  },
  {
   "cell_type": "code",
   "execution_count": null,
   "metadata": {},
   "outputs": [],
   "source": [
    "# Merging the primary df with new subset\n",
    "df = pd.merge(df, df_set, on = \"id\")\n",
    "df.head()"
   ]
  },
  {
   "cell_type": "code",
   "execution_count": null,
   "metadata": {},
   "outputs": [],
   "source": [
    "# Making new subset\n",
    "df_subset = df[[\"mean\", \"height\", \"weight\"]]\n",
    "df_subset.head()"
   ]
  },
  {
   "cell_type": "code",
   "execution_count": null,
   "metadata": {},
   "outputs": [],
   "source": [
    "# Lets analyse the data\n",
    "sns.pairplot(df_subset)\n",
    "plt.show()"
   ]
  },
  {
   "cell_type": "code",
   "execution_count": null,
   "metadata": {},
   "outputs": [],
   "source": [
    "median = df[\"mean\"].median()\n",
    "print(median)\n",
    "sns.displot(df_subset[\"mean\"], kde=True)\n",
    "plt.axvline(median, 0, 100, color='blue', label='median')\n",
    "plt.title(\"Mean of steps distribution\")\n",
    "plt.xlabel(\"Mean\")\n",
    "plt.ylabel(\"Count\")\n",
    "plt.show()"
   ]
  },
  {
   "cell_type": "code",
   "execution_count": null,
   "metadata": {},
   "outputs": [],
   "source": [
    "#There seem to be anomalies in mean per weight so lets try fix that\n",
    "df_subset = df_subset[(df_subset[\"height\"] > 0) & (df_subset[\"weight\"] > 30) & (df_subset[\"weight\"] < 200) & (df_subset[\"mean\"] < 10000) ] "
   ]
  },
  {
   "cell_type": "code",
   "execution_count": null,
   "metadata": {},
   "outputs": [],
   "source": [
    "# Now lets look at pearsonsr for weight and height\n",
    "print(pearsonr(df_subset['mean'],df_subset['height']))\n",
    "print(pearsonr(df_subset['mean'],df_subset['weight']))"
   ]
  },
  {
   "cell_type": "code",
   "execution_count": null,
   "metadata": {},
   "outputs": [],
   "source": [
    "df_subset = df[[\"city\",\"gender\",\"mean\", \"height\", \"weight\"]]\n",
    "df_subset = df_subset[(df_subset[\"height\"] > 0) & (df_subset[\"weight\"] > 30) & (df_subset[\"weight\"] < 200) & (df_subset[\"mean\"] < 10000) ]\n",
    "sns.catplot(data = df, x = \"gender\", y = \"mean\", kind = \"violin\")\n",
    "plt.title('Gender vs Mean steps')\n",
    "plt.show()"
   ]
  },
  {
   "cell_type": "code",
   "execution_count": null,
   "metadata": {},
   "outputs": [],
   "source": [
    "# Now lets look at gender and education\n",
    "pd.crosstab(df[\"gender\"],df[\"education_1\"], normalize=\"columns\")"
   ]
  },
  {
   "cell_type": "code",
   "execution_count": null,
   "metadata": {},
   "outputs": [],
   "source": [
    "plt.figure(figsize=(10, 6))\n",
    "plot = sns.countplot(data = df, x = \"education_1\", hue = \"gender\")\n",
    "plt.xlabel(\"education\")\n",
    "plt.show()"
   ]
  }
 ],
 "metadata": {
  "kernelspec": {
   "display_name": "Python 3",
   "language": "python",
   "name": "python3"
  },
  "language_info": {
   "codemirror_mode": {
    "name": "ipython",
    "version": 3
   },
   "file_extension": ".py",
   "mimetype": "text/x-python",
   "name": "python",
   "nbconvert_exporter": "python",
   "pygments_lexer": "ipython3",
   "version": "3.7.6"
  }
 },
 "nbformat": 4,
 "nbformat_minor": 4
}
